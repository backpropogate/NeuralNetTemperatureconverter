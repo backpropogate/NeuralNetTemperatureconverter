{
  "nbformat": 4,
  "nbformat_minor": 0,
  "metadata": {
    "colab": {
      "name": "temperature.ipynb",
      "version": "0.3.2",
      "provenance": []
    },
    "kernelspec": {
      "name": "python3",
      "display_name": "Python 3"
    }
  },
  "cells": [
    {
      "metadata": {
        "id": "NqQfg9PKqPZe",
        "colab_type": "code",
        "outputId": "42ec1e0a-8d3d-45d3-901e-ff1a5176a8b8",
        "colab": {
          "base_uri": "https://localhost:8080/",
          "height": 136
        }
      },
      "cell_type": "code",
      "source": [
        "import tensorflow as tf\n",
        "tf.logging.set_verbosity\n",
        "import numpy as np\n",
        "\n",
        "\n",
        "\n",
        "#set up the training data\n",
        "\n",
        "celsius_q = np.array([-40, -10, 0, 8, 15, 22, 38], dtype = float)\n",
        "fahrenheit_a = np.array([-40 ,14 ,32 ,46 ,59 ,72 ,100], dtype=float)\n",
        "\n",
        "#print the results\n",
        "\n",
        "for i,c in enumerate(celsius_q):\n",
        "  print(\"{} degrees celsius = {} degrees fahrenheit\".format(c,fahrenheit_a[i]))\n",
        "  \n",
        " \n",
        "ten = tf.keras.layers.Dense(units=1 , input_shape=[1])\n",
        "\n",
        "model= tf.keras.Sequential([ten])\n",
        "\n",
        "#note you will often see the layer denoted inside of the model like so\n",
        "#model= tf.keras.Sequential([\n",
        "#tf.keras.layers.Dense(units= 1, input_shape = [1])\n",
        "#])"
      ],
      "execution_count": 0,
      "outputs": [
        {
          "output_type": "stream",
          "text": [
            "-40.0 degrees celsius = -40.0 degrees fahrenheit\n",
            "-10.0 degrees celsius = 14.0 degrees fahrenheit\n",
            "0.0 degrees celsius = 32.0 degrees fahrenheit\n",
            "8.0 degrees celsius = 46.0 degrees fahrenheit\n",
            "15.0 degrees celsius = 59.0 degrees fahrenheit\n",
            "22.0 degrees celsius = 72.0 degrees fahrenheit\n",
            "38.0 degrees celsius = 100.0 degrees fahrenheit\n"
          ],
          "name": "stdout"
        }
      ]
    },
    {
      "metadata": {
        "id": "_ciilI5izIfw",
        "colab_type": "code",
        "colab": {}
      },
      "cell_type": "code",
      "source": [
        "model.compile(loss= 'mean_squared_error',\n",
        "             optimizer = tf.keras.optimizers.Adam(0.1))"
      ],
      "execution_count": 0,
      "outputs": []
    },
    {
      "metadata": {
        "id": "_4lzSdvR0sYE",
        "colab_type": "code",
        "outputId": "aadc7ade-afb8-47e2-a4f5-0fba9dada158",
        "colab": {
          "base_uri": "https://localhost:8080/",
          "height": 34
        }
      },
      "cell_type": "code",
      "source": [
        "history = model.fit(celsius_q, fahrenheit_a, epochs =800, verbose= False)\n",
        "print(\"model has finished Training\")"
      ],
      "execution_count": 0,
      "outputs": [
        {
          "output_type": "stream",
          "text": [
            "model has finished Training\n"
          ],
          "name": "stdout"
        }
      ]
    },
    {
      "metadata": {
        "id": "FlLVHUPi3JZs",
        "colab_type": "code",
        "outputId": "e00dc5f4-be67-4a54-b2ed-b2745d0437cc",
        "colab": {
          "base_uri": "https://localhost:8080/",
          "height": 378
        }
      },
      "cell_type": "code",
      "source": [
        "#im going to use matplotlib to display plot the loss overtime, I can use seaborn as well But i'm opting to use matloblib\n",
        "import matplotlib.pyplot as plt\n",
        "plt.xlabel('Epoch Number')\n",
        "plt.ylabel(\"Loss Magnitude\")\n",
        "plt.plot(history.history['loss'])"
      ],
      "execution_count": 0,
      "outputs": [
        {
          "output_type": "execute_result",
          "data": {
            "text/plain": [
              "[<matplotlib.lines.Line2D at 0x7f01b2d01ba8>]"
            ]
          },
          "metadata": {
            "tags": []
          },
          "execution_count": 36
        },
        {
          "output_type": "display_data",
          "data": {
            "image/png": "[encoded data removed]",
            "text/plain": [
              "<Figure size 576x396 with 1 Axes>"
            ]
          },
          "metadata": {
            "tags": []
          }
        }
      ]
    },
    {
      "metadata": {
        "id": "wIegquvN4ZqX",
        "colab_type": "code",
        "outputId": "06dd7458-b7e1-48a1-e115-a33f5a504947",
        "colab": {
          "base_uri": "https://localhost:8080/",
          "height": 34
        }
      },
      "cell_type": "code",
      "source": [
        "#Use the model to predict value, input is in celsius, x\n",
        "print(model.predict([100.0]))"
      ],
      "execution_count": 0,
      "outputs": [
        {
          "output_type": "stream",
          "text": [
            "[[211.74744]]\n"
          ],
          "name": "stdout"
        }
      ]
    },
    {
      "metadata": {
        "id": "CA9VSg2s-4QC",
        "colab_type": "code",
        "outputId": "389f1f1f-6f36-49bb-f77e-d895c08d9114",
        "colab": {
          "base_uri": "https://localhost:8080/",
          "height": 34
        }
      },
      "cell_type": "code",
      "source": [
        "#get the weights of ten, \n",
        "\n",
        "\n",
        "print(\"These are the layer variables:{}\".format(ten.get_weights()))"
      ],
      "execution_count": 0,
      "outputs": [
        {
          "output_type": "stream",
          "text": [
            "These are the layer variables:[array([[1.7979496]], dtype=float32), array([31.952477], dtype=float32)]\n"
          ],
          "name": "stdout"
        }
      ]
    }
  ]
}